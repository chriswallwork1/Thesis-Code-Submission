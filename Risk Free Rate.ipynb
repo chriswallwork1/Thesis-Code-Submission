{
 "cells": [
  {
   "cell_type": "code",
   "execution_count": 3,
   "metadata": {},
   "outputs": [
    {
     "name": "stdout",
     "output_type": "stream",
     "text": [
      "N=2502 days  |  daily r_f = 0.00007132  (0.007132%)\n",
      "Annualised equivalent: 0.018136  (1.814%)\n"
     ]
    }
   ],
   "source": [
    "import numpy as np\n",
    "import pandas as pd\n",
    "from pandas_datareader import data as pdr\n",
    "\n",
    "START, END = \"2014-12-31\", \"2024-12-31\"\n",
    "TRADING_DAYS = 252\n",
    "\n",
    "y = pdr.DataReader(\"DGS3MO\", \"fred\", START, END).rename(columns={\"DGS3MO\": \"y_pct_pa\"}).dropna()\n",
    "y_dec = y[\"y_pct_pa\"] / 100.0\n",
    "\n",
    "r_rf_daily = (1.0 + y_dec)**(1.0 / TRADING_DAYS) - 1.0\n",
    "\n",
    "r_f = np.exp(np.log1p(r_rf_daily).mean()) - 1.0\n",
    "\n",
    "r_f_ann = (1.0 + r_f)**TRADING_DAYS - 1.0\n",
    "\n",
    "print(f\"N={len(r_rf_daily)} days  |  daily r_f = {r_f:.8f}  ({r_f*100:.6f}%)\")\n",
    "print(f\"Annualised equivalent: {r_f_ann:.6f}  ({r_f_ann*100:.3f}%)\")\n"
   ]
  }
 ],
 "metadata": {
  "kernelspec": {
   "display_name": "Python 3",
   "language": "python",
   "name": "python3"
  },
  "language_info": {
   "codemirror_mode": {
    "name": "ipython",
    "version": 3
   },
   "file_extension": ".py",
   "mimetype": "text/x-python",
   "name": "python",
   "nbconvert_exporter": "python",
   "pygments_lexer": "ipython3",
   "version": "3.10.6"
  },
  "orig_nbformat": 4
 },
 "nbformat": 4,
 "nbformat_minor": 2
}
